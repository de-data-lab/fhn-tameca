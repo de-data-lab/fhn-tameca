{
 "cells": [
  {
   "cell_type": "code",
   "execution_count": 66,
   "id": "86a5a8fb",
   "metadata": {},
   "outputs": [],
   "source": [
    "#import libraries\n",
    "import os\n",
    "import numpy as np\n",
    "import pandas as pd\n",
    "import psycopg2"
   ]
  },
  {
   "cell_type": "code",
   "execution_count": 36,
   "id": "47f462d7",
   "metadata": {},
   "outputs": [
    {
     "name": "stdout",
     "output_type": "stream",
     "text": [
      "Customer Contracts$.csv\r\n",
      "\u001b[31mPulse_2018_survey_public_data.csv\u001b[m\u001b[m\r\n",
      "Pulse_2018_survey_public_data.numbers\r\n",
      "Pulse_2018_survey_public_data_update.csv\r\n",
      "Pulse_2018_survey_public_data_update.numbers\r\n",
      "Pulse_2018_survey_public_data_updated.csv\r\n",
      "inspect_2018.csv\r\n",
      "pulse_2018_import.ipynb\r\n"
     ]
    }
   ],
   "source": [
    "!ls"
   ]
  },
  {
   "cell_type": "code",
   "execution_count": 37,
   "id": "fb16a18d",
   "metadata": {},
   "outputs": [
    {
     "data": {
      "text/html": [
       "<div>\n",
       "<style scoped>\n",
       "    .dataframe tbody tr th:only-of-type {\n",
       "        vertical-align: middle;\n",
       "    }\n",
       "\n",
       "    .dataframe tbody tr th {\n",
       "        vertical-align: top;\n",
       "    }\n",
       "\n",
       "    .dataframe thead th {\n",
       "        text-align: right;\n",
       "    }\n",
       "</style>\n",
       "<table border=\"1\" class=\"dataframe\">\n",
       "  <thead>\n",
       "    <tr style=\"text-align: right;\">\n",
       "      <th></th>\n",
       "      <th>id</th>\n",
       "      <th>uasmembers</th>\n",
       "      <th>sampletype</th>\n",
       "      <th>batch</th>\n",
       "      <th>primary_respondent</th>\n",
       "      <th>hardware</th>\n",
       "      <th>language</th>\n",
       "      <th>start_date</th>\n",
       "      <th>start_year</th>\n",
       "      <th>start_month</th>\n",
       "      <th>...</th>\n",
       "      <th>q143</th>\n",
       "      <th>Scores_Spend</th>\n",
       "      <th>Scores_Save</th>\n",
       "      <th>Scores_Borrow</th>\n",
       "      <th>Scores_Plan</th>\n",
       "      <th>Scores_Total</th>\n",
       "      <th>FinancialHealth</th>\n",
       "      <th>base_weight</th>\n",
       "      <th>final_weight</th>\n",
       "      <th>imputation_flag</th>\n",
       "    </tr>\n",
       "  </thead>\n",
       "  <tbody>\n",
       "    <tr>\n",
       "      <th>0</th>\n",
       "      <td>1</td>\n",
       "      <td>0</td>\n",
       "      <td>4 California</td>\n",
       "      <td>15 MSG 2017/11 California Batch 1</td>\n",
       "      <td>1 Primary respondent</td>\n",
       "      <td>0 None</td>\n",
       "      <td>1 English</td>\n",
       "      <td>30apr2018</td>\n",
       "      <td>2018</td>\n",
       "      <td>4</td>\n",
       "      <td>...</td>\n",
       "      <td>2 No</td>\n",
       "      <td>75.0</td>\n",
       "      <td>75.0</td>\n",
       "      <td>40.0</td>\n",
       "      <td>87.5</td>\n",
       "      <td>69.375</td>\n",
       "      <td>Coping</td>\n",
       "      <td>0.310482</td>\n",
       "      <td>0.249985</td>\n",
       "      <td>0.0</td>\n",
       "    </tr>\n",
       "    <tr>\n",
       "      <th>1</th>\n",
       "      <td>2</td>\n",
       "      <td>0</td>\n",
       "      <td>1 Nationally Representative</td>\n",
       "      <td>11 MSG 2016/04 Nat.Rep. Batch 7</td>\n",
       "      <td>1 Primary respondent</td>\n",
       "      <td>0 None</td>\n",
       "      <td>1 English</td>\n",
       "      <td>19jun2018</td>\n",
       "      <td>2018</td>\n",
       "      <td>6</td>\n",
       "      <td>...</td>\n",
       "      <td>2 No</td>\n",
       "      <td>87.5</td>\n",
       "      <td>62.5</td>\n",
       "      <td>72.5</td>\n",
       "      <td>57.5</td>\n",
       "      <td>70.000</td>\n",
       "      <td>Coping</td>\n",
       "      <td>0.285752</td>\n",
       "      <td>0.249923</td>\n",
       "      <td>0.0</td>\n",
       "    </tr>\n",
       "    <tr>\n",
       "      <th>2</th>\n",
       "      <td>3</td>\n",
       "      <td>1</td>\n",
       "      <td>1 Nationally Representative</td>\n",
       "      <td>8 MSG 2016/01 Nat.Rep. Batch 4</td>\n",
       "      <td>1 Primary respondent</td>\n",
       "      <td>0 None</td>\n",
       "      <td>1 English</td>\n",
       "      <td>06may2018</td>\n",
       "      <td>2018</td>\n",
       "      <td>5</td>\n",
       "      <td>...</td>\n",
       "      <td>1 Yes</td>\n",
       "      <td>62.5</td>\n",
       "      <td>87.5</td>\n",
       "      <td>90.0</td>\n",
       "      <td>82.5</td>\n",
       "      <td>80.625</td>\n",
       "      <td>Healthy</td>\n",
       "      <td>0.659296</td>\n",
       "      <td>0.249922</td>\n",
       "      <td>0.0</td>\n",
       "    </tr>\n",
       "    <tr>\n",
       "      <th>3</th>\n",
       "      <td>4</td>\n",
       "      <td>0</td>\n",
       "      <td>1 Nationally Representative</td>\n",
       "      <td>1 ASDE 2014/01 Nat.Rep.</td>\n",
       "      <td>1 Primary respondent</td>\n",
       "      <td>0 None</td>\n",
       "      <td>1 English</td>\n",
       "      <td>02may2018</td>\n",
       "      <td>2018</td>\n",
       "      <td>5</td>\n",
       "      <td>...</td>\n",
       "      <td>2 No</td>\n",
       "      <td>87.5</td>\n",
       "      <td>100.0</td>\n",
       "      <td>92.5</td>\n",
       "      <td>100.0</td>\n",
       "      <td>95.000</td>\n",
       "      <td>Healthy</td>\n",
       "      <td>0.325256</td>\n",
       "      <td>0.249986</td>\n",
       "      <td>0.0</td>\n",
       "    </tr>\n",
       "    <tr>\n",
       "      <th>4</th>\n",
       "      <td>5</td>\n",
       "      <td>2</td>\n",
       "      <td>1 Nationally Representative</td>\n",
       "      <td>8 MSG 2016/01 Nat.Rep. Batch 4</td>\n",
       "      <td>1 Primary respondent</td>\n",
       "      <td>0 None</td>\n",
       "      <td>1 English</td>\n",
       "      <td>01may2018</td>\n",
       "      <td>2018</td>\n",
       "      <td>5</td>\n",
       "      <td>...</td>\n",
       "      <td>2 No</td>\n",
       "      <td>67.5</td>\n",
       "      <td>100.0</td>\n",
       "      <td>82.5</td>\n",
       "      <td>70.0</td>\n",
       "      <td>80.000</td>\n",
       "      <td>Healthy</td>\n",
       "      <td>2.112595</td>\n",
       "      <td>0.937317</td>\n",
       "      <td>0.0</td>\n",
       "    </tr>\n",
       "  </tbody>\n",
       "</table>\n",
       "<p>5 rows × 351 columns</p>\n",
       "</div>"
      ],
      "text/plain": [
       "   id  uasmembers                   sampletype  \\\n",
       "0   1           0                 4 California   \n",
       "1   2           0  1 Nationally Representative   \n",
       "2   3           1  1 Nationally Representative   \n",
       "3   4           0  1 Nationally Representative   \n",
       "4   5           2  1 Nationally Representative   \n",
       "\n",
       "                               batch    primary_respondent hardware  \\\n",
       "0  15 MSG 2017/11 California Batch 1  1 Primary respondent   0 None   \n",
       "1    11 MSG 2016/04 Nat.Rep. Batch 7  1 Primary respondent   0 None   \n",
       "2     8 MSG 2016/01 Nat.Rep. Batch 4  1 Primary respondent   0 None   \n",
       "3            1 ASDE 2014/01 Nat.Rep.  1 Primary respondent   0 None   \n",
       "4     8 MSG 2016/01 Nat.Rep. Batch 4  1 Primary respondent   0 None   \n",
       "\n",
       "    language start_date  start_year  start_month  ...   q143  Scores_Spend  \\\n",
       "0  1 English  30apr2018        2018            4  ...   2 No          75.0   \n",
       "1  1 English  19jun2018        2018            6  ...   2 No          87.5   \n",
       "2  1 English  06may2018        2018            5  ...  1 Yes          62.5   \n",
       "3  1 English  02may2018        2018            5  ...   2 No          87.5   \n",
       "4  1 English  01may2018        2018            5  ...   2 No          67.5   \n",
       "\n",
       "   Scores_Save  Scores_Borrow Scores_Plan Scores_Total FinancialHealth  \\\n",
       "0         75.0           40.0        87.5       69.375          Coping   \n",
       "1         62.5           72.5        57.5       70.000          Coping   \n",
       "2         87.5           90.0        82.5       80.625         Healthy   \n",
       "3        100.0           92.5       100.0       95.000         Healthy   \n",
       "4        100.0           82.5        70.0       80.000         Healthy   \n",
       "\n",
       "  base_weight final_weight imputation_flag  \n",
       "0    0.310482     0.249985             0.0  \n",
       "1    0.285752     0.249923             0.0  \n",
       "2    0.659296     0.249922             0.0  \n",
       "3    0.325256     0.249986             0.0  \n",
       "4    2.112595     0.937317             0.0  \n",
       "\n",
       "[5 rows x 351 columns]"
      ]
     },
     "execution_count": 37,
     "metadata": {},
     "output_type": "execute_result"
    }
   ],
   "source": [
    "#dataframe\n",
    "# low_memory=False\n",
    "df = pd.read_csv(\"Pulse_2018_survey_public_data.csv\")\n",
    "df.head()"
   ]
  },
  {
   "cell_type": "code",
   "execution_count": 38,
   "id": "b8f1567b",
   "metadata": {},
   "outputs": [
    {
     "data": {
      "text/plain": [
       "'pulse_2018_survey_public_data.csv'"
      ]
     },
     "execution_count": 38,
     "metadata": {},
     "output_type": "execute_result"
    }
   ],
   "source": [
    "# clean table names\n",
    "# lowercase, replace whitespace with _, replace symbols with _\n",
    "\n",
    "file = \"Pulse_2018_survey_public_data.csv\"\n",
    "clean_table_name = file.lower().replace(\" \", \"_\").replace(\"?\", \"\") \\\n",
    "                    .replace(\"-\", \"_\").replace(r\"/\", \"_\").replace(\"\\\\\", \"_\").replace(\"%\", \"\") \\\n",
    "                    .replace(\")\", \"\").replace(r\"(\",\"\").replace(\"$\",\"\")\n",
    "clean_table_name"
   ]
  },
  {
   "cell_type": "code",
   "execution_count": 43,
   "id": "ab551302",
   "metadata": {},
   "outputs": [
    {
     "data": {
      "text/plain": [
       "id                      int64\n",
       "uasmembers              int64\n",
       "sampletype             object\n",
       "batch                  object\n",
       "primary_respondent     object\n",
       "                       ...   \n",
       "Scores_Total          float64\n",
       "FinancialHealth        object\n",
       "base_weight           float64\n",
       "final_weight          float64\n",
       "imputation_flag       float64\n",
       "Length: 351, dtype: object"
      ]
     },
     "execution_count": 43,
     "metadata": {},
     "output_type": "execute_result"
    }
   ],
   "source": [
    "#clean headers\n",
    "# lowercase, remove whitespace, replace symbols with _\n",
    "\n",
    "#first, get column names and list comprehension\n",
    "df.columns\n",
    "#df.dtypes gets the datatypes"
   ]
  },
  {
   "cell_type": "code",
   "execution_count": 45,
   "id": "5f2245c4",
   "metadata": {},
   "outputs": [
    {
     "data": {
      "text/plain": [
       "{'object': 'varchar',\n",
       " 'float64': 'float',\n",
       " 'int64': 'int',\n",
       " 'datetime64': 'timestamp',\n",
       " 'timedelta64[ns]': 'varchar'}"
      ]
     },
     "execution_count": 45,
     "metadata": {},
     "output_type": "execute_result"
    }
   ],
   "source": [
    "#create replacements dictionary\n",
    "replacements = {\n",
    "    'object' : 'varchar',\n",
    "    'float64': 'float',\n",
    "    'int64': 'int',\n",
    "    'datetime64': 'timestamp',\n",
    "    'timedelta64[ns]':'varchar'\n",
    "}\n",
    "replacements"
   ]
  },
  {
   "cell_type": "code",
   "execution_count": 48,
   "id": "f0e7a418",
   "metadata": {},
   "outputs": [],
   "source": [
    "#create table pulse_2018_survey\n",
    "#(\n",
    "#    id int,\n",
    "#    sampletype varchar,\n",
    "#  batch varchar,\n",
    "#    financialhealth varchar\n",
    "#);"
   ]
  },
  {
   "cell_type": "code",
   "execution_count": 52,
   "id": "a0468a5f",
   "metadata": {},
   "outputs": [
    {
     "data": {
      "text/plain": [
       "'id int, uasmembers int, sampletype varchar, batch varchar, primary_respondent varchar, hardware varchar, language varchar, start_date varchar, start_year int, start_month int, start_day int, start_hour int, start_min int, start_sec int, end_date varchar, end_year varchar, end_month varchar, end_day varchar, end_hour varchar, end_min varchar, end_sec varchar, gender varchar, dateofbirth_year varchar, age varchar, agerange varchar, citizenus varchar, bornus varchar, stateborn varchar, countryborn varchar, countryborn_other varchar, immigrant_status varchar, statereside varchar, maritalstatus varchar, livewithpartner varchar, education varchar, hisplatino varchar, hisplatino_group varchar, white varchar, black varchar, nativeamer varchar, asian varchar, pacific varchar, race varchar, working varchar, sick_leave varchar, unemp_layoff varchar, unemp_look varchar, retired varchar, disabled varchar, lf_other varchar, laborstatus varchar, employmenttype varchar, workfullpart varchar, hourswork varchar, hhincome varchar, anyhhmember varchar, hhmembernumber varchar, hhmemberage_1 varchar, hhmemberage_2 varchar, hhmemberage_3 varchar, hhmemberage_4 varchar, hhmemberage_5 varchar, hhmemberage_6 varchar, hhmemberage_7 varchar, hhmemberage_8 varchar, hhmemberage_9 varchar, hhmemberage_10 varchar, hhmemberage_11 varchar, hhmemberage_12 varchar, hhmemberage_13 varchar, hhmemberage_14 varchar, hhmemberage_15 varchar, hhmembergen_1 varchar, hhmembergen_2 varchar, hhmembergen_3 varchar, hhmembergen_4 varchar, hhmembergen_5 varchar, hhmembergen_6 varchar, hhmembergen_7 varchar, hhmembergen_8 varchar, hhmembergen_9 varchar, hhmembergen_10 varchar, hhmembergen_11 varchar, hhmembergen_12 varchar, hhmembergen_13 varchar, hhmembergen_14 varchar, hhmembergen_15 varchar, hhmemberin_1 varchar, hhmemberin_2 varchar, hhmemberin_3 varchar, hhmemberin_4 varchar, hhmemberin_5 varchar, hhmemberin_6 varchar, hhmemberin_7 varchar, hhmemberin_8 varchar, hhmemberin_9 varchar, hhmemberin_10 varchar, hhmemberin_11 varchar, hhmemberin_12 varchar, hhmemberin_13 varchar, hhmemberin_14 varchar, hhmemberin_15 varchar, hhmemberrel_1 varchar, hhmemberrel_2 varchar, hhmemberrel_3 varchar, hhmemberrel_4 varchar, hhmemberrel_5 varchar, hhmemberrel_6 varchar, hhmemberrel_7 varchar, hhmemberrel_8 varchar, hhmemberrel_9 varchar, hhmemberrel_10 varchar, hhmemberrel_11 varchar, hhmemberrel_12 varchar, hhmemberrel_13 varchar, hhmemberrel_14 varchar, hhmemberrel_15 varchar, lastmyhh_date varchar, cs_001 varchar, q001 varchar, q002 varchar, q003 varchar, q004 varchar, q005 varchar, q006 varchar, q007 varchar, q008 varchar, q009 varchar, q010 varchar, q011 varchar, q012 varchar, q013 varchar, q014 varchar, q015 varchar, q016 varchar, q017 varchar, q018 varchar, q018_other varchar, q019 varchar, q020 varchar, q021 varchar, q022 varchar, q023 varchar, q024 varchar, q025 varchar, q026 varchar, q026_other varchar, q026s1 varchar, q026s2 varchar, q026s3 varchar, q026s4 varchar, q026s5 varchar, q026s6 varchar, q026s7 varchar, q026s8 varchar, q026s9 varchar, q026s10 varchar, q026s11 varchar, q027 varchar, q027a varchar, q027b varchar, q028 varchar, q029 varchar, q030 varchar, q031 varchar, q032 varchar, q033 varchar, q034 varchar, q034a varchar, q035 varchar, q035_other varchar, q036 varchar, q037 varchar, q037_other varchar, q038 varchar, q038_other varchar, q038s1 varchar, q038s2 varchar, q038s3 varchar, q038s4 varchar, q038s5 varchar, q038s6 varchar, q038s7 varchar, q038s8 varchar, q038s9 varchar, q038s10 varchar, q038s11 varchar, q038s12 varchar, q039 varchar, q040 varchar, q041 varchar, q041_other varchar, q042 varchar, q042_other varchar, q042s1 varchar, q042s2 varchar, q042s3 varchar, q042s4 varchar, q042s5 varchar, q042s6 varchar, q042s7 varchar, q042s8 varchar, q042s9 varchar, q043 varchar, q043_other varchar, q043s1 varchar, q043s2 varchar, q043s3 varchar, q043s4 varchar, q043s5 varchar, q043s6 varchar, q043s7 varchar, q043s8 varchar, q043s9 varchar, q044 varchar, q045 varchar, q046 varchar, q047 varchar, q048 varchar, q049 varchar, q050 varchar, q051 varchar, q052 varchar, q053 varchar, q053_other varchar, q054 varchar, q055 varchar, q056 varchar, q057 varchar, q058 varchar, q059 varchar, q060 varchar, q061 varchar, q062 varchar, q063 varchar, q064 varchar, q066 varchar, q067 varchar, q068 varchar, q070 varchar, q071 varchar, q072 varchar, q073 varchar, q074 varchar, q075 varchar, q076 varchar, q077 varchar, q078 varchar, q079 varchar, q080 varchar, q081 varchar, q082 varchar, q083 varchar, q084 varchar, q085 varchar, q085_other varchar, q086 varchar, q087 varchar, q088 varchar, q089 varchar, q090 varchar, q091 varchar, q092 varchar, q093 varchar, q094 varchar, q095 varchar, q096 varchar, q097 varchar, q098 varchar, q099 varchar, q100 varchar, q101 varchar, q102 varchar, q103 varchar, q104 varchar, q105 varchar, q105_other varchar, q106 varchar, q107 varchar, q108 varchar, q109 varchar, q110 varchar, q111 varchar, q112 varchar, q113 varchar, q114 varchar, q115 varchar, q116 varchar, q117 varchar, q117a varchar, q118 varchar, q119 varchar, q120 varchar, q120_other varchar, q121 varchar, q122 varchar, q123 varchar, q123_other varchar, q123s1 varchar, q123s2 varchar, q123s3 varchar, q123s4 varchar, q123s5 varchar, q123s6 varchar, q123s7 varchar, q123s8 varchar, q123s9 varchar, q123s10 varchar, q123s11 varchar, q123s12 varchar, q124 varchar, q125 varchar, q125_other varchar, q125s1 varchar, q125s2 varchar, q125s3 varchar, q125s4 varchar, q125s5 varchar, q125s6 varchar, q125s7 varchar, q125s8 varchar, q125s9 varchar, q125s10 varchar, q125s11 varchar, q126_1_ varchar, q126_2_ varchar, q126_3_ varchar, q126_other_1_ varchar, q126_other_2_ varchar, q126_other_3_ varchar, q133 varchar, q134 varchar, q134_other varchar, q135 varchar, q136 varchar, q137 varchar, q138 varchar, q139 varchar, q140 varchar, q141 varchar, q142 varchar, q143 varchar, Scores_Spend float, Scores_Save float, Scores_Borrow float, Scores_Plan float, Scores_Total float, FinancialHealth varchar, base_weight float, final_weight float, imputation_flag float'"
      ]
     },
     "execution_count": 52,
     "metadata": {},
     "output_type": "execute_result"
    }
   ],
   "source": [
    "#create the create table sql statement - join name and datatype, replacing the pandas dtype with sql datatype as loop\n",
    "col_string = \", \".join(\"{} {}\".format(n, d) for (n, d) in zip(df.columns, df.dtypes.replace(replacements)))\n",
    "col_string"
   ]
  },
  {
   "cell_type": "code",
   "execution_count": 60,
   "id": "5166794c",
   "metadata": {},
   "outputs": [
    {
     "name": "stdout",
     "output_type": "stream",
     "text": [
      "opened database successfully\n"
     ]
    }
   ],
   "source": [
    "#open database connection to postgres using psycopg2\n",
    "conn_string = \"host='localhost' \\\n",
    "                dbname = 'FHN' \\\n",
    "                user='user' \\\n",
    "                password='password'\"\n",
    "conn = psycopg2.connect(conn_string)\n",
    "cursor = conn.cursor()\n",
    "print('opened database successfully')"
   ]
  },
  {
   "cell_type": "code",
   "execution_count": 61,
   "id": "852e0866",
   "metadata": {},
   "outputs": [],
   "source": [
    "#drop tables with same name\n",
    "cursor.execute(\"drop table if exists pulse_2018_survey;\")"
   ]
  },
  {
   "cell_type": "code",
   "execution_count": 62,
   "id": "0a0b6fd0",
   "metadata": {},
   "outputs": [],
   "source": [
    "#CREATE TABLE\n",
    "cursor.execute(\"create table pulse_2018_survey \\\n",
    "(id int, uasmembers int, sampletype varchar, batch varchar, primary_respondent varchar, hardware varchar, language varchar, start_date varchar, start_year int, start_month int, start_day int, start_hour int, start_min int, start_sec int, end_date varchar, end_year varchar, end_month varchar, end_day varchar, end_hour varchar, end_min varchar, end_sec varchar, gender varchar, dateofbirth_year varchar, age varchar, agerange varchar, citizenus varchar, bornus varchar, stateborn varchar, countryborn varchar, countryborn_other varchar, immigrant_status varchar, statereside varchar, maritalstatus varchar, livewithpartner varchar, education varchar, hisplatino varchar, hisplatino_group varchar, white varchar, black varchar, nativeamer varchar, asian varchar, pacific varchar, race varchar, working varchar, sick_leave varchar, unemp_layoff varchar, unemp_look varchar, retired varchar, disabled varchar, lf_other varchar, laborstatus varchar, employmenttype varchar, workfullpart varchar, hourswork varchar, hhincome varchar, anyhhmember varchar, hhmembernumber varchar, hhmemberage_1 varchar, hhmemberage_2 varchar, hhmemberage_3 varchar, hhmemberage_4 varchar, hhmemberage_5 varchar, hhmemberage_6 varchar, hhmemberage_7 varchar, hhmemberage_8 varchar, hhmemberage_9 varchar, hhmemberage_10 varchar, hhmemberage_11 varchar, hhmemberage_12 varchar, hhmemberage_13 varchar, hhmemberage_14 varchar, hhmemberage_15 varchar, hhmembergen_1 varchar, hhmembergen_2 varchar, hhmembergen_3 varchar, hhmembergen_4 varchar, hhmembergen_5 varchar, hhmembergen_6 varchar, hhmembergen_7 varchar, hhmembergen_8 varchar, hhmembergen_9 varchar, hhmembergen_10 varchar, hhmembergen_11 varchar, hhmembergen_12 varchar, hhmembergen_13 varchar, hhmembergen_14 varchar, hhmembergen_15 varchar, hhmemberin_1 varchar, hhmemberin_2 varchar, hhmemberin_3 varchar, hhmemberin_4 varchar, hhmemberin_5 varchar, hhmemberin_6 varchar, hhmemberin_7 varchar, hhmemberin_8 varchar, hhmemberin_9 varchar, hhmemberin_10 varchar, hhmemberin_11 varchar, hhmemberin_12 varchar, hhmemberin_13 varchar, hhmemberin_14 varchar, hhmemberin_15 varchar, hhmemberrel_1 varchar, hhmemberrel_2 varchar, hhmemberrel_3 varchar, hhmemberrel_4 varchar, hhmemberrel_5 varchar, hhmemberrel_6 varchar, hhmemberrel_7 varchar, hhmemberrel_8 varchar, hhmemberrel_9 varchar, hhmemberrel_10 varchar, hhmemberrel_11 varchar, hhmemberrel_12 varchar, hhmemberrel_13 varchar, hhmemberrel_14 varchar, hhmemberrel_15 varchar, lastmyhh_date varchar, cs_001 varchar, q001 varchar, q002 varchar, q003 varchar, q004 varchar, q005 varchar, q006 varchar, q007 varchar, q008 varchar, q009 varchar, q010 varchar, q011 varchar, q012 varchar, q013 varchar, q014 varchar, q015 varchar, q016 varchar, q017 varchar, q018 varchar, q018_other varchar, q019 varchar, q020 varchar, q021 varchar, q022 varchar, q023 varchar, q024 varchar, q025 varchar, q026 varchar, q026_other varchar, q026s1 varchar, q026s2 varchar, q026s3 varchar, q026s4 varchar, q026s5 varchar, q026s6 varchar, q026s7 varchar, q026s8 varchar, q026s9 varchar, q026s10 varchar, q026s11 varchar, q027 varchar, q027a varchar, q027b varchar, q028 varchar, q029 varchar, q030 varchar, q031 varchar, q032 varchar, q033 varchar, q034 varchar, q034a varchar, q035 varchar, q035_other varchar, q036 varchar, q037 varchar, q037_other varchar, q038 varchar, q038_other varchar, q038s1 varchar, q038s2 varchar, q038s3 varchar, q038s4 varchar, q038s5 varchar, q038s6 varchar, q038s7 varchar, q038s8 varchar, q038s9 varchar, q038s10 varchar, q038s11 varchar, q038s12 varchar, q039 varchar, q040 varchar, q041 varchar, q041_other varchar, q042 varchar, q042_other varchar, q042s1 varchar, q042s2 varchar, q042s3 varchar, q042s4 varchar, q042s5 varchar, q042s6 varchar, q042s7 varchar, q042s8 varchar, q042s9 varchar, q043 varchar, q043_other varchar, q043s1 varchar, q043s2 varchar, q043s3 varchar, q043s4 varchar, q043s5 varchar, q043s6 varchar, q043s7 varchar, q043s8 varchar, q043s9 varchar, q044 varchar, q045 varchar, q046 varchar, q047 varchar, q048 varchar, q049 varchar, q050 varchar, q051 varchar, q052 varchar, q053 varchar, q053_other varchar, q054 varchar, q055 varchar, q056 varchar, q057 varchar, q058 varchar, q059 varchar, q060 varchar, q061 varchar, q062 varchar, q063 varchar, q064 varchar, q066 varchar, q067 varchar, q068 varchar, q070 varchar, q071 varchar, q072 varchar, q073 varchar, q074 varchar, q075 varchar, q076 varchar, q077 varchar, q078 varchar, q079 varchar, q080 varchar, q081 varchar, q082 varchar, q083 varchar, q084 varchar, q085 varchar, q085_other varchar, q086 varchar, q087 varchar, q088 varchar, q089 varchar, q090 varchar, q091 varchar, q092 varchar, q093 varchar, q094 varchar, q095 varchar, q096 varchar, q097 varchar, q098 varchar, q099 varchar, q100 varchar, q101 varchar, q102 varchar, q103 varchar, q104 varchar, q105 varchar, q105_other varchar, q106 varchar, q107 varchar, q108 varchar, q109 varchar, q110 varchar, q111 varchar, q112 varchar, q113 varchar, q114 varchar, q115 varchar, q116 varchar, q117 varchar, q117a varchar, q118 varchar, q119 varchar, q120 varchar, q120_other varchar, q121 varchar, q122 varchar, q123 varchar, q123_other varchar, q123s1 varchar, q123s2 varchar, q123s3 varchar, q123s4 varchar, q123s5 varchar, q123s6 varchar, q123s7 varchar, q123s8 varchar, q123s9 varchar, q123s10 varchar, q123s11 varchar, q123s12 varchar, q124 varchar, q125 varchar, q125_other varchar, q125s1 varchar, q125s2 varchar, q125s3 varchar, q125s4 varchar, q125s5 varchar, q125s6 varchar, q125s7 varchar, q125s8 varchar, q125s9 varchar, q125s10 varchar, q125s11 varchar, q126_1_ varchar, q126_2_ varchar, q126_3_ varchar, q126_other_1_ varchar, q126_other_2_ varchar, q126_other_3_ varchar, q133 varchar, q134 varchar, q134_other varchar, q135 varchar, q136 varchar, q137 varchar, q138 varchar, q139 varchar, q140 varchar, q141 varchar, q142 varchar, q143 varchar, Scores_Spend float, Scores_Save float, Scores_Borrow float, Scores_Plan float, Scores_Total float, FinancialHealth varchar, base_weight float, final_weight float, imputation_flag float)\")"
   ]
  },
  {
   "cell_type": "code",
   "execution_count": 63,
   "id": "5e2e7ee7",
   "metadata": {},
   "outputs": [
    {
     "name": "stdout",
     "output_type": "stream",
     "text": [
      "file opened in memory\n"
     ]
    }
   ],
   "source": [
    "#insert values to table\n",
    "\n",
    "#save df to csv\n",
    "df.to_csv('pulse_2018_surveydb.csv', header=df.columns, index=False, encoding='utf-8')\n",
    "\n",
    "#open csv files, save as an object\n",
    "my_file = open('pulse_2018_surveydb.csv')\n",
    "print('file opened in memory')"
   ]
  },
  {
   "cell_type": "code",
   "execution_count": 64,
   "id": "43387d2f",
   "metadata": {},
   "outputs": [
    {
     "name": "stdout",
     "output_type": "stream",
     "text": [
      "file copied to db\n"
     ]
    }
   ],
   "source": [
    "#upload to db\n",
    "SQL_STATEMENT = \"\"\"\n",
    "COPY pulse_2018_survey FROM STDIN WITH\n",
    "    CSV\n",
    "    HEADER\n",
    "    DELIMITER AS ','\n",
    "\"\"\"\n",
    "\n",
    "cursor.copy_expert(sql=SQL_STATEMENT, file=my_file)\n",
    "print('file copied to db')\n"
   ]
  },
  {
   "cell_type": "code",
   "execution_count": 65,
   "id": "bd70b141",
   "metadata": {},
   "outputs": [
    {
     "name": "stdout",
     "output_type": "stream",
     "text": [
      "table pulse_2018_survey imported to db completed\n"
     ]
    }
   ],
   "source": [
    "conn.commit()\n",
    "cursor.close\n",
    "print('table pulse_2018_survey imported to db completed')"
   ]
  },
  {
   "cell_type": "code",
   "execution_count": null,
   "id": "91aad958",
   "metadata": {},
   "outputs": [],
   "source": []
  }
 ],
 "metadata": {
  "kernelspec": {
   "display_name": "Python 3 (ipykernel)",
   "language": "python",
   "name": "python3"
  },
  "language_info": {
   "codemirror_mode": {
    "name": "ipython",
    "version": 3
   },
   "file_extension": ".py",
   "mimetype": "text/x-python",
   "name": "python",
   "nbconvert_exporter": "python",
   "pygments_lexer": "ipython3",
   "version": "3.9.12"
  }
 },
 "nbformat": 4,
 "nbformat_minor": 5
}
